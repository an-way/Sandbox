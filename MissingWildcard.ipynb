{
 "cells": [
  {
   "cell_type": "code",
   "execution_count": 1,
   "id": "d64c7abf-151e-4367-8420-693d76a24f91",
   "metadata": {},
   "outputs": [
    {
     "name": "stdout",
     "output_type": "stream",
     "text": [
      "8.18.2\n"
     ]
    }
   ],
   "source": [
    "! snakemake --version"
   ]
  },
  {
   "cell_type": "code",
   "execution_count": 3,
   "id": "07da8ac9-785b-4bd3-9cb7-b1d702a9ea41",
   "metadata": {},
   "outputs": [
    {
     "name": "stdout",
     "output_type": "stream",
     "text": [
      "Writing create_files.sh\n"
     ]
    }
   ],
   "source": [
    "%%writefile create_files.sh\n",
    "prefixes=(\"sampleA\" \"sampleB\" \"sampleC\")\n",
    "\n",
    "for prefix in \"${prefixes[@]}\"; do\n",
    "  touch \"${prefix}_1.txt\"\n",
    "  touch \"${prefix}_2.txt\"\n",
    "done"
   ]
  },
  {
   "cell_type": "code",
   "execution_count": 4,
   "id": "a999af36-3d46-4a00-8577-ab9ef82d7919",
   "metadata": {},
   "outputs": [],
   "source": [
    "!bash create_files.sh"
   ]
  },
  {
   "cell_type": "code",
   "execution_count": 5,
   "id": "2196fe1b-42db-4bed-8761-c6420d9a2c23",
   "metadata": {},
   "outputs": [
    {
     "name": "stdout",
     "output_type": "stream",
     "text": [
      "Snakefile\tcreate_files.sh  sampleA_2.txt\tsampleB_2.txt  sampleC_2.txt\n",
      "Untitled.ipynb\tsampleA_1.txt\t sampleB_1.txt\tsampleC_1.txt\n"
     ]
    }
   ],
   "source": [
    "!ls"
   ]
  },
  {
   "cell_type": "code",
   "execution_count": 25,
   "id": "a48b7b1a-79b8-4ce2-9719-7ad2fb22791b",
   "metadata": {},
   "outputs": [
    {
     "name": "stdout",
     "output_type": "stream",
     "text": [
      "import os\n",
      "\n",
      "OUTDIR = \"first_directory\"\n",
      "\n",
      "\n",
      "samples = ['sampleA', 'sampleB', 'sampleC']\n",
      "SNDDIR = \"final_dir\"\n",
      "\n",
      "def get_txt_files(wildcards):\n",
      "    ck_output = checkpoints.make_five_files.get(**wildcards).output[0]\n",
      "    print([file.split(\".\")[0] for file in os.listdir(ck_output) if file.endswith('.txt')])\n",
      "    return [file.split(\".\")[0] for file in os.listdir(ck_output) if file.endswith('.txt')]\n",
      "\n",
      "\n",
      "def not_empty_files(wildcards):\n",
      "    ck_output = checkpoints.make_empty_and_notEmpty_files.get(**wildcards).output[0]\n",
      "    print([file.split(\"_\")[0] for file in os.listdir(ck_output) if file.endswith('.txt')])\n",
      "    return [file.split(\"_\")[0] for file in os.listdir(ck_output) if file.endswith('.txt')]\n",
      "\n",
      "rule all:\n",
      "    input: \n",
      "        OUTDIR,\n",
      "        expand(f\"{OUTDIR}/\"+\"{SMP}.doc\", SMP=get_txt_files),\n",
      "        expand(f\"{SNDDIR}/\"+\"{SMP}_{samples}.txt\", file=not_empty_files,samples=samples)\n",
      "\n",
      "\n",
      "\n",
      "checkpoint make_five_files:\n",
      "    output:\n",
      "        directory(OUTDIR)\n",
      "    params:\n",
      "        o = OUTDIR\n",
      "    shell:\n",
      "        \"\"\"\n",
      "        mkdir {output};\n",
      "        for D in $(seq 1 5); do\n",
      "            touch {params.o}/$RANDOM.txt\n",
      "        done\n",
      "        \"\"\"\n",
      "\n",
      "rule copy_files:\n",
      "    input:\n",
      "        \"{SMP}.txt\"\n",
      "    output:\n",
      "        out = \"{SMP}.tsv\"\n",
      "    shell:\n",
      "        \"\"\"\n",
      "        touch {output.out}\n",
      "        \"\"\"\n",
      "\n",
      "rule copy2:\n",
      "    input:\n",
      "        \"{SMP}.tsv\"\n",
      "    output:\n",
      "        \"{SMP}.doc\"\n",
      "    shell:\n",
      "        \"\"\"\n",
      "        touch {output}\n",
      "        \"\"\"\n",
      "\n",
      "rule merge:\n",
      "    input:\n",
      "        s1 = \"{samples}_1.txt\",\n",
      "        s2 = \"{samples}_2.txt\"\n",
      "    output:\n",
      "        merged = \"{samples}_merged.txt\"\n",
      "    shell:\n",
      "        r'''\n",
      "\t    cat {input.s1} {input.s2} > {output.merge}\n",
      "\t    '''\n",
      "\n",
      "\n",
      "checkpoint make_empty_and_notEmpty_files:\n",
      "    input:\n",
      "\t    f = \"{SMP}.doc\",\n",
      "\t    s = \"{samples}_merged.txt\"     \n",
      "    output:\n",
      "\t    out = \"new/{SMP}_{samples}.txt\"\n",
      "    shell:\n",
      "        r'''\n",
      "        cat {input.f} {input.s} > {output}\n",
      "        random_num=$(( RANDOM % 2 ))\n",
      "\t\tif [ $random_num -eq 1 ]; then \n",
      "\t\t\techo \"not_empty\" >> {output} \n",
      "\t\tfi\n",
      "        '''\n",
      "\n",
      "rule process_not_empty_file:\n",
      "    input:\n",
      "        \"new/{SMP}_{samples}.txt\"\n",
      "    output:\n",
      "        f\"{SNDDIR}/\"+\"{SMP}_{samples}.txt\"\n",
      "    shell:\n",
      "        r'''\n",
      "        cp {input} {output}\n",
      "        '''\n"
     ]
    }
   ],
   "source": [
    "!cat Snakefile"
   ]
  },
  {
   "cell_type": "code",
   "execution_count": 26,
   "id": "4057eeb7-516e-498a-b3e8-a668404375df",
   "metadata": {},
   "outputs": [
    {
     "name": "stdout",
     "output_type": "stream",
     "text": [
      "\u001b[33mAssuming unrestricted shared filesystem usage.\u001b[0m\n",
      "\u001b[33mBuilding DAG of jobs...\u001b[0m\n",
      "\u001b[31mInputFunctionException in rule all in file /media/sf_Shared_folder/repositories/Sandbox/Missing_wildcard/Snakefile, line 20:\n",
      "Error:\n",
      "  WorkflowError:\n",
      "    Missing wildcard values for samples, SMP\n",
      "Wildcards:\n",
      "\n",
      "Traceback:\n",
      " (rule all, line 20, /media/sf_Shared_folder/repositories/Sandbox/Missing_wildcard/Snakefile)\u001b[0m\n"
     ]
    }
   ],
   "source": [
    "!snakemake -c 1 "
   ]
  },
  {
   "cell_type": "code",
   "execution_count": null,
   "id": "db0ec2bf-1836-4bfd-a268-9be4ffb37eeb",
   "metadata": {},
   "outputs": [],
   "source": []
  },
  {
   "cell_type": "code",
   "execution_count": null,
   "id": "01e96eeb-7cc0-42bc-9277-74b1023f8283",
   "metadata": {},
   "outputs": [],
   "source": []
  }
 ],
 "metadata": {
  "kernelspec": {
   "display_name": "Python [conda env:snakemake-8-18-1]",
   "language": "python",
   "name": "conda-env-snakemake-8-18-1-py"
  },
  "language_info": {
   "codemirror_mode": {
    "name": "ipython",
    "version": 3
   },
   "file_extension": ".py",
   "mimetype": "text/x-python",
   "name": "python",
   "nbconvert_exporter": "python",
   "pygments_lexer": "ipython3",
   "version": "3.12.5"
  }
 },
 "nbformat": 4,
 "nbformat_minor": 5
}
